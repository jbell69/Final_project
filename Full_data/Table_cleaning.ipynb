{
 "cells": [
  {
   "cell_type": "code",
   "execution_count": 39,
   "metadata": {},
   "outputs": [
    {
     "name": "stdout",
     "output_type": "stream",
     "text": [
      "2560\n",
      "25600\n"
     ]
    },
    {
     "data": {
      "text/html": [
       "<div>\n",
       "<style scoped>\n",
       "    .dataframe tbody tr th:only-of-type {\n",
       "        vertical-align: middle;\n",
       "    }\n",
       "\n",
       "    .dataframe tbody tr th {\n",
       "        vertical-align: top;\n",
       "    }\n",
       "\n",
       "    .dataframe thead th {\n",
       "        text-align: right;\n",
       "    }\n",
       "</style>\n",
       "<table border=\"1\" class=\"dataframe\">\n",
       "  <thead>\n",
       "    <tr style=\"text-align: right;\">\n",
       "      <th></th>\n",
       "      <th>Unnamed: 0</th>\n",
       "      <th>Object_id</th>\n",
       "      <th>Hex</th>\n",
       "      <th>Color name</th>\n",
       "      <th>Size</th>\n",
       "    </tr>\n",
       "  </thead>\n",
       "  <tbody>\n",
       "    <tr>\n",
       "      <th>0</th>\n",
       "      <td>0</td>\n",
       "      <td>466</td>\n",
       "      <td>#6b6b6b</td>\n",
       "      <td>silver</td>\n",
       "      <td>9.0</td>\n",
       "    </tr>\n",
       "    <tr>\n",
       "      <th>1</th>\n",
       "      <td>1</td>\n",
       "      <td>470</td>\n",
       "      <td>#686868</td>\n",
       "      <td>dimgrey</td>\n",
       "      <td>15.0</td>\n",
       "    </tr>\n",
       "    <tr>\n",
       "      <th>2</th>\n",
       "      <td>2</td>\n",
       "      <td>472</td>\n",
       "      <td>#aeaeae</td>\n",
       "      <td>darkslategrey</td>\n",
       "      <td>12.0</td>\n",
       "    </tr>\n",
       "    <tr>\n",
       "      <th>3</th>\n",
       "      <td>3</td>\n",
       "      <td>473</td>\n",
       "      <td>#151515</td>\n",
       "      <td>lightgrey</td>\n",
       "      <td>10.0</td>\n",
       "    </tr>\n",
       "    <tr>\n",
       "      <th>4</th>\n",
       "      <td>4</td>\n",
       "      <td>474</td>\n",
       "      <td>#828282</td>\n",
       "      <td>dimgrey</td>\n",
       "      <td>28.0</td>\n",
       "    </tr>\n",
       "  </tbody>\n",
       "</table>\n",
       "</div>"
      ],
      "text/plain": [
       "   Unnamed: 0  Object_id      Hex     Color name  Size\n",
       "0           0        466  #6b6b6b         silver   9.0\n",
       "1           1        470  #686868        dimgrey  15.0\n",
       "2           2        472  #aeaeae  darkslategrey  12.0\n",
       "3           3        473  #151515      lightgrey  10.0\n",
       "4           4        474  #828282        dimgrey  28.0"
      ]
     },
     "execution_count": 39,
     "metadata": {},
     "output_type": "execute_result"
    }
   ],
   "source": [
    "import pandas as pd\n",
    "\n",
    "paintings_colors = pd.read_csv('paintings_colors.csv')\n",
    "\n",
    "print(paintings_colors.Object_id.nunique())\n",
    "print(paintings_colors.Object_id.count())\n",
    "\n",
    "paintings_colors.head()"
   ]
  },
  {
   "cell_type": "code",
   "execution_count": 13,
   "metadata": {},
   "outputs": [],
   "source": [
    "#Extract the \"value\" array into three separate columns and relabel everything\n",
    "\n",
    "split_colors = paintings_colors[\"value\"].str.split(\",\", expand = True) \n",
    "paintings_colors[\"Hex\"] = split_colors[0].str.strip(\"[ '\")\n",
    "paintings_colors[\"Color name\"] = split_colors[1].str.strip(\"' ''\")\n",
    "paintings_colors[\"Size\"] = split_colors[2].str.strip(\"]\")\n",
    "\n",
    "paintings_colors = paintings_colors.drop(columns=[\"variable\", \"value\"])\n",
    "paintings_colors = paintings_colors.rename(columns = {'index':\"Object_id\"})"
   ]
  },
  {
   "cell_type": "code",
   "execution_count": 14,
   "metadata": {},
   "outputs": [
    {
     "data": {
      "text/html": [
       "<div>\n",
       "<style scoped>\n",
       "    .dataframe tbody tr th:only-of-type {\n",
       "        vertical-align: middle;\n",
       "    }\n",
       "\n",
       "    .dataframe tbody tr th {\n",
       "        vertical-align: top;\n",
       "    }\n",
       "\n",
       "    .dataframe thead th {\n",
       "        text-align: right;\n",
       "    }\n",
       "</style>\n",
       "<table border=\"1\" class=\"dataframe\">\n",
       "  <thead>\n",
       "    <tr style=\"text-align: right;\">\n",
       "      <th></th>\n",
       "      <th>Object_id</th>\n",
       "      <th>Hex</th>\n",
       "      <th>Color name</th>\n",
       "      <th>Size</th>\n",
       "    </tr>\n",
       "  </thead>\n",
       "  <tbody>\n",
       "    <tr>\n",
       "      <th>0</th>\n",
       "      <td>466</td>\n",
       "      <td>#6b6b6b</td>\n",
       "      <td>silver</td>\n",
       "      <td>9.0</td>\n",
       "    </tr>\n",
       "    <tr>\n",
       "      <th>1</th>\n",
       "      <td>470</td>\n",
       "      <td>#686868</td>\n",
       "      <td>dimgrey</td>\n",
       "      <td>15.0</td>\n",
       "    </tr>\n",
       "    <tr>\n",
       "      <th>2</th>\n",
       "      <td>472</td>\n",
       "      <td>#aeaeae</td>\n",
       "      <td>darkslategrey</td>\n",
       "      <td>12.0</td>\n",
       "    </tr>\n",
       "    <tr>\n",
       "      <th>3</th>\n",
       "      <td>473</td>\n",
       "      <td>#151515</td>\n",
       "      <td>lightgrey</td>\n",
       "      <td>10.0</td>\n",
       "    </tr>\n",
       "    <tr>\n",
       "      <th>4</th>\n",
       "      <td>474</td>\n",
       "      <td>#828282</td>\n",
       "      <td>dimgrey</td>\n",
       "      <td>28.0</td>\n",
       "    </tr>\n",
       "  </tbody>\n",
       "</table>\n",
       "</div>"
      ],
      "text/plain": [
       "   Object_id      Hex     Color name   Size\n",
       "0        466  #6b6b6b         silver    9.0\n",
       "1        470  #686868        dimgrey   15.0\n",
       "2        472  #aeaeae  darkslategrey   12.0\n",
       "3        473  #151515      lightgrey   10.0\n",
       "4        474  #828282        dimgrey   28.0"
      ]
     },
     "execution_count": 14,
     "metadata": {},
     "output_type": "execute_result"
    }
   ],
   "source": [
    "#head to double-check \n",
    "paintings_colors.head()"
   ]
  },
  {
   "cell_type": "code",
   "execution_count": 32,
   "metadata": {},
   "outputs": [],
   "source": [
    "#REad to csv\n",
    "paintings_colors.to_csv('paintings_colors.csv', index = True)"
   ]
  },
  {
   "cell_type": "code",
   "execution_count": 40,
   "metadata": {},
   "outputs": [
    {
     "name": "stdout",
     "output_type": "stream",
     "text": [
      "Paintings with colors:2560\n",
      "Paintings in painting table (uncleaned):2560\n"
     ]
    }
   ],
   "source": [
    "#We dropped about 100 paintings because their images were unretrievable. \n",
    "#So read in paintings and remove any that we don't have color data for.\n",
    "\n",
    "paintings = pd.read_csv('Paintings_final.csv')\n",
    "\n",
    "print(\"Paintings with colors:\" + str(paintings_colors.Object_id.nunique()))\n",
    "print(\"Paintings in painting table (uncleaned):\" + str(paintings.Object_id.count()))"
   ]
  },
  {
   "cell_type": "code",
   "execution_count": 34,
   "metadata": {},
   "outputs": [
    {
     "name": "stdout",
     "output_type": "stream",
     "text": [
      "Paintings with colors:2560\n",
      "Paintings in painting table (cleaned):2560\n"
     ]
    }
   ],
   "source": [
    "#read out Object_id's from paintings_colors table into a list that we can use to filter our paintings table\n",
    "paintings_to_get = paintings_colors.Object_id.to_list()\n",
    "\n",
    "#filter paintings table\n",
    "filter_paintings = paintings.Object_id.isin(paintings_to_get)\n",
    "paintings_final = paintings[filter_paintings]\n",
    "\n",
    "#print to confirm counts\n",
    "print(\"Paintings with colors:\" + str(paintings_colors.Object_id.nunique()))\n",
    "print(\"Paintings in painting table (cleaned):\" + str(paintings_final.Object_id.count()))\n"
   ]
  },
  {
   "cell_type": "code",
   "execution_count": 37,
   "metadata": {},
   "outputs": [],
   "source": [
    "#REad to csv\n",
    "paintings_final.to_csv('Paintings_final.csv', index = False)"
   ]
  },
  {
   "cell_type": "code",
   "execution_count": 44,
   "metadata": {},
   "outputs": [
    {
     "name": "stdout",
     "output_type": "stream",
     "text": [
      "Artists:983\n",
      "Paintings table:966\n"
     ]
    }
   ],
   "source": [
    "#Filter artists table using the same method\n",
    "artists = pd.read_csv('Artists_final.csv')\n",
    "\n",
    "print(\"Artists:\" + str(artists.Artist_id.nunique()))\n",
    "print(\"Paintings table:\" + str(paintings.Artist_id.nunique()))"
   ]
  },
  {
   "cell_type": "code",
   "execution_count": 45,
   "metadata": {},
   "outputs": [
    {
     "name": "stdout",
     "output_type": "stream",
     "text": [
      "Artists:966\n",
      "Paintings table:966\n"
     ]
    }
   ],
   "source": [
    "artist_list = paintings.Artist_id.to_list()\n",
    "\n",
    "#filter artist table\n",
    "filter_in_paintings = artists.Artist_id.isin(artist_list)\n",
    "artists_final = artists[filter_in_paintings]\n",
    "\n",
    "print(\"Artists:\" + str(artists_final.Artist_id.nunique()))\n",
    "print(\"Paintings table:\" + str(paintings.Artist_id.nunique()))"
   ]
  },
  {
   "cell_type": "code",
   "execution_count": 47,
   "metadata": {},
   "outputs": [],
   "source": [
    "artists_final.to_csv('Artists_final.csv', index = False)"
   ]
  },
  {
   "cell_type": "code",
   "execution_count": null,
   "metadata": {},
   "outputs": [],
   "source": []
  }
 ],
 "metadata": {
  "kernelspec": {
   "display_name": "Python 3",
   "language": "python",
   "name": "python3"
  },
  "language_info": {
   "codemirror_mode": {
    "name": "ipython",
    "version": 3
   },
   "file_extension": ".py",
   "mimetype": "text/x-python",
   "name": "python",
   "nbconvert_exporter": "python",
   "pygments_lexer": "ipython3",
   "version": "3.6.8"
  }
 },
 "nbformat": 4,
 "nbformat_minor": 2
}
